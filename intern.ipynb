{
 "cells": [
  {
   "cell_type": "raw",
   "id": "2225b9e0",
   "metadata": {},
   "source": [
    "1.We have a dataset of 6448 rows and 3 columns that is Review, date, Location.From the dataset we can assume that this is the hotel rooms review dataset.\n",
    "2.In location columns we have maximun number hotels reviews from United States of America(116 reviews), New York(34 reviews) and california(19 reviews).\n",
    "3.75 percentage of location in location columns are missing.(4737) and 55 reviews are missing.\n",
    "4.Most of hotels visits in month of january 2019 around 145 visits.\n",
    "5.The number of positive(5616) negative(744) and neutral reviews(33).\n",
    "6.Most positve(76) and negative(22) reviews are from the united states of america.\n",
    "7.Most positive reviews from New York.(31)"
   ]
  },
  {
   "cell_type": "code",
   "execution_count": 1,
   "id": "428ce757",
   "metadata": {},
   "outputs": [],
   "source": [
    "import numpy as np\n",
    "import pandas as pd\n",
    "import matplotlib.pyplot as plt"
   ]
  },
  {
   "cell_type": "code",
   "execution_count": 2,
   "id": "48f94916",
   "metadata": {},
   "outputs": [],
   "source": [
    "data=pd.read_csv('data.csv')"
   ]
  },
  {
   "cell_type": "code",
   "execution_count": 3,
   "id": "0a02379f",
   "metadata": {},
   "outputs": [
    {
     "data": {
      "text/html": [
       "<div>\n",
       "<style scoped>\n",
       "    .dataframe tbody tr th:only-of-type {\n",
       "        vertical-align: middle;\n",
       "    }\n",
       "\n",
       "    .dataframe tbody tr th {\n",
       "        vertical-align: top;\n",
       "    }\n",
       "\n",
       "    .dataframe thead th {\n",
       "        text-align: right;\n",
       "    }\n",
       "</style>\n",
       "<table border=\"1\" class=\"dataframe\">\n",
       "  <thead>\n",
       "    <tr style=\"text-align: right;\">\n",
       "      <th></th>\n",
       "      <th>Review</th>\n",
       "      <th>date</th>\n",
       "      <th>Location</th>\n",
       "    </tr>\n",
       "  </thead>\n",
       "  <tbody>\n",
       "    <tr>\n",
       "      <th>0</th>\n",
       "      <td>I was very impressed with the resort.\\n Great ...</td>\n",
       "      <td>2019/08/20</td>\n",
       "      <td>Sebastian</td>\n",
       "    </tr>\n",
       "    <tr>\n",
       "      <th>1</th>\n",
       "      <td>The rooms were nice the outside needs work als...</td>\n",
       "      <td>2019/08/20</td>\n",
       "      <td>Los Angeles</td>\n",
       "    </tr>\n",
       "    <tr>\n",
       "      <th>2</th>\n",
       "      <td>Great location! I have stayed at this hotel on...</td>\n",
       "      <td>2019/08/20</td>\n",
       "      <td>Georgia</td>\n",
       "    </tr>\n",
       "    <tr>\n",
       "      <th>3</th>\n",
       "      <td>The hotel was adequate for my stay. The strips...</td>\n",
       "      <td>2019/08/20</td>\n",
       "      <td>NaN</td>\n",
       "    </tr>\n",
       "    <tr>\n",
       "      <th>4</th>\n",
       "      <td>Great location, room was large and spacious. P...</td>\n",
       "      <td>2019/08/19</td>\n",
       "      <td>Palm Harbor</td>\n",
       "    </tr>\n",
       "  </tbody>\n",
       "</table>\n",
       "</div>"
      ],
      "text/plain": [
       "                                              Review        date     Location\n",
       "0  I was very impressed with the resort.\\n Great ...  2019/08/20    Sebastian\n",
       "1  The rooms were nice the outside needs work als...  2019/08/20  Los Angeles\n",
       "2  Great location! I have stayed at this hotel on...  2019/08/20      Georgia\n",
       "3  The hotel was adequate for my stay. The strips...  2019/08/20          NaN\n",
       "4  Great location, room was large and spacious. P...  2019/08/19  Palm Harbor"
      ]
     },
     "execution_count": 3,
     "metadata": {},
     "output_type": "execute_result"
    }
   ],
   "source": [
    "data.head()"
   ]
  },
  {
   "cell_type": "code",
   "execution_count": 4,
   "id": "dcc95387",
   "metadata": {},
   "outputs": [
    {
     "data": {
      "text/plain": [
       "(6448, 3)"
      ]
     },
     "execution_count": 4,
     "metadata": {},
     "output_type": "execute_result"
    }
   ],
   "source": [
    "data.shape"
   ]
  },
  {
   "cell_type": "markdown",
   "id": "dfb7d35b",
   "metadata": {},
   "source": [
    "# Here we see that we have a dataset of 6448 rows and 3 columns that is Review, date, Location"
   ]
  },
  {
   "cell_type": "code",
   "execution_count": 5,
   "id": "53552443",
   "metadata": {},
   "outputs": [
    {
     "data": {
      "text/plain": [
       "Location\n",
       "United States of America    116\n",
       "New York                     34\n",
       "California                   19\n",
       "San Jose                     19\n",
       "Canada                       16\n",
       "                           ... \n",
       "Manhattan                     1\n",
       "Manhattan, NY                 1\n",
       "Mansfield, Texas              1\n",
       "Margate Florida               1\n",
       "2186                          1\n",
       "Length: 1082, dtype: int64"
      ]
     },
     "execution_count": 5,
     "metadata": {},
     "output_type": "execute_result"
    }
   ],
   "source": [
    "data.value_counts('Location')"
   ]
  },
  {
   "cell_type": "markdown",
   "id": "1d9b8aa6",
   "metadata": {},
   "source": [
    "# In location columns we have maximun number hotels reviews from United States of America(116 reviews), New York(34 reviews) and california(19 reviews)."
   ]
  },
  {
   "cell_type": "code",
   "execution_count": 6,
   "id": "94c6999c",
   "metadata": {},
   "outputs": [
    {
     "name": "stdout",
     "output_type": "stream",
     "text": [
      "<class 'pandas.core.frame.DataFrame'>\n",
      "RangeIndex: 6448 entries, 0 to 6447\n",
      "Data columns (total 3 columns):\n",
      " #   Column    Non-Null Count  Dtype \n",
      "---  ------    --------------  ----- \n",
      " 0   Review    6393 non-null   object\n",
      " 1   date      6448 non-null   object\n",
      " 2   Location  1711 non-null   object\n",
      "dtypes: object(3)\n",
      "memory usage: 151.2+ KB\n"
     ]
    }
   ],
   "source": [
    "data.info()"
   ]
  },
  {
   "cell_type": "code",
   "execution_count": 7,
   "id": "188d4fef",
   "metadata": {},
   "outputs": [
    {
     "data": {
      "text/plain": [
       "Review       0.852978\n",
       "date         0.000000\n",
       "Location    73.464640\n",
       "dtype: float64"
      ]
     },
     "execution_count": 7,
     "metadata": {},
     "output_type": "execute_result"
    }
   ],
   "source": [
    "data.isnull().sum() * 100 / len(data)"
   ]
  },
  {
   "cell_type": "markdown",
   "id": "64eb0ff6",
   "metadata": {},
   "source": [
    "# 75 percentage of location in location columns are missing"
   ]
  },
  {
   "cell_type": "code",
   "execution_count": 8,
   "id": "14e30045",
   "metadata": {},
   "outputs": [
    {
     "data": {
      "text/plain": [
       "Review        55\n",
       "date           0\n",
       "Location    4737\n",
       "dtype: int64"
      ]
     },
     "execution_count": 8,
     "metadata": {},
     "output_type": "execute_result"
    }
   ],
   "source": [
    "data.isnull().sum()"
   ]
  },
  {
   "cell_type": "markdown",
   "id": "a791fd5a",
   "metadata": {},
   "source": [
    "# 55 reviews are missing"
   ]
  },
  {
   "cell_type": "code",
   "execution_count": 9,
   "id": "a5be55fe",
   "metadata": {},
   "outputs": [
    {
     "data": {
      "text/plain": [
       "date\n",
       "Jun 2019      145\n",
       "May 2019      121\n",
       "Jul 2019       92\n",
       "2018/12/01     66\n",
       "Oct 2018       58\n",
       "             ... \n",
       "2019/06/14      3\n",
       "2019/05/31      2\n",
       "Dec 2018        2\n",
       "2019/06/06      2\n",
       "2019/06/08      2\n",
       "Length: 403, dtype: int64"
      ]
     },
     "execution_count": 9,
     "metadata": {},
     "output_type": "execute_result"
    }
   ],
   "source": [
    "data.value_counts('date')"
   ]
  },
  {
   "cell_type": "markdown",
   "id": "644830ac",
   "metadata": {},
   "source": [
    "# most of hotels visits in month of january around 145."
   ]
  },
  {
   "cell_type": "code",
   "execution_count": 10,
   "id": "782282f8",
   "metadata": {},
   "outputs": [],
   "source": [
    "data=data.dropna(subset=['Review'], how='any')"
   ]
  },
  {
   "cell_type": "code",
   "execution_count": 11,
   "id": "544b206b",
   "metadata": {},
   "outputs": [
    {
     "data": {
      "text/plain": [
       "Review         0\n",
       "date           0\n",
       "Location    4688\n",
       "dtype: int64"
      ]
     },
     "execution_count": 11,
     "metadata": {},
     "output_type": "execute_result"
    }
   ],
   "source": [
    "data.isnull().sum()"
   ]
  },
  {
   "cell_type": "markdown",
   "id": "f202118b",
   "metadata": {},
   "source": [
    "# drop 55 null reviews from dataset to evaluate the sentiment of reviews."
   ]
  },
  {
   "cell_type": "code",
   "execution_count": 12,
   "id": "f83185f0",
   "metadata": {},
   "outputs": [],
   "source": [
    "from textblob import TextBlob"
   ]
  },
  {
   "cell_type": "code",
   "execution_count": 13,
   "id": "8cb2f937",
   "metadata": {},
   "outputs": [],
   "source": [
    "def analyze_sentiment(Review):\n",
    "    analysis = TextBlob(Review)\n",
    "    if analysis.sentiment.polarity > 0:\n",
    "        return 'Positive'\n",
    "    elif analysis.sentiment.polarity == 0:\n",
    "        return 'Neutral'\n",
    "    else:\n",
    "        return 'Negative'"
   ]
  },
  {
   "cell_type": "markdown",
   "id": "27886f6f",
   "metadata": {},
   "source": [
    "# using Textblob libaray to evaluate the sentiment of reviews."
   ]
  },
  {
   "cell_type": "code",
   "execution_count": 14,
   "id": "fae3c890",
   "metadata": {},
   "outputs": [
    {
     "data": {
      "text/html": [
       "<div>\n",
       "<style scoped>\n",
       "    .dataframe tbody tr th:only-of-type {\n",
       "        vertical-align: middle;\n",
       "    }\n",
       "\n",
       "    .dataframe tbody tr th {\n",
       "        vertical-align: top;\n",
       "    }\n",
       "\n",
       "    .dataframe thead th {\n",
       "        text-align: right;\n",
       "    }\n",
       "</style>\n",
       "<table border=\"1\" class=\"dataframe\">\n",
       "  <thead>\n",
       "    <tr style=\"text-align: right;\">\n",
       "      <th></th>\n",
       "      <th>Review</th>\n",
       "      <th>date</th>\n",
       "      <th>Location</th>\n",
       "      <th>Sentiment</th>\n",
       "    </tr>\n",
       "  </thead>\n",
       "  <tbody>\n",
       "    <tr>\n",
       "      <th>0</th>\n",
       "      <td>I was very impressed with the resort.\\n Great ...</td>\n",
       "      <td>2019/08/20</td>\n",
       "      <td>Sebastian</td>\n",
       "      <td>Positive</td>\n",
       "    </tr>\n",
       "    <tr>\n",
       "      <th>1</th>\n",
       "      <td>The rooms were nice the outside needs work als...</td>\n",
       "      <td>2019/08/20</td>\n",
       "      <td>Los Angeles</td>\n",
       "      <td>Positive</td>\n",
       "    </tr>\n",
       "    <tr>\n",
       "      <th>2</th>\n",
       "      <td>Great location! I have stayed at this hotel on...</td>\n",
       "      <td>2019/08/20</td>\n",
       "      <td>Georgia</td>\n",
       "      <td>Positive</td>\n",
       "    </tr>\n",
       "    <tr>\n",
       "      <th>3</th>\n",
       "      <td>The hotel was adequate for my stay. The strips...</td>\n",
       "      <td>2019/08/20</td>\n",
       "      <td>NaN</td>\n",
       "      <td>Positive</td>\n",
       "    </tr>\n",
       "    <tr>\n",
       "      <th>4</th>\n",
       "      <td>Great location, room was large and spacious. P...</td>\n",
       "      <td>2019/08/19</td>\n",
       "      <td>Palm Harbor</td>\n",
       "      <td>Positive</td>\n",
       "    </tr>\n",
       "  </tbody>\n",
       "</table>\n",
       "</div>"
      ],
      "text/plain": [
       "                                              Review        date     Location  \\\n",
       "0  I was very impressed with the resort.\\n Great ...  2019/08/20    Sebastian   \n",
       "1  The rooms were nice the outside needs work als...  2019/08/20  Los Angeles   \n",
       "2  Great location! I have stayed at this hotel on...  2019/08/20      Georgia   \n",
       "3  The hotel was adequate for my stay. The strips...  2019/08/20          NaN   \n",
       "4  Great location, room was large and spacious. P...  2019/08/19  Palm Harbor   \n",
       "\n",
       "  Sentiment  \n",
       "0  Positive  \n",
       "1  Positive  \n",
       "2  Positive  \n",
       "3  Positive  \n",
       "4  Positive  "
      ]
     },
     "execution_count": 14,
     "metadata": {},
     "output_type": "execute_result"
    }
   ],
   "source": [
    "data['Sentiment'] = data['Review'].apply(lambda x : analyze_sentiment(x) )\n",
    "data.head()"
   ]
  },
  {
   "cell_type": "code",
   "execution_count": 15,
   "id": "82b0b718",
   "metadata": {},
   "outputs": [
    {
     "data": {
      "text/plain": [
       "Sentiment\n",
       "Positive    5616\n",
       "Negative     744\n",
       "Neutral       33\n",
       "dtype: int64"
      ]
     },
     "execution_count": 15,
     "metadata": {},
     "output_type": "execute_result"
    }
   ],
   "source": [
    "data.value_counts('Sentiment')"
   ]
  },
  {
   "cell_type": "markdown",
   "id": "4c9f16cc",
   "metadata": {},
   "source": [
    "# Here you are can see the number of positive(5616) negative(744) and neutral reviews(33)."
   ]
  },
  {
   "cell_type": "code",
   "execution_count": 16,
   "id": "1be36b6e",
   "metadata": {},
   "outputs": [
    {
     "data": {
      "text/plain": [
       "United States of America    76\n",
       "New York                    31\n",
       "California                  18\n",
       "San Jose                    17\n",
       "Florida                     13\n",
       "                            ..\n",
       "Lake alfred, us              1\n",
       "Reno, Nevada                 1\n",
       "Mukilteo, WA                 1\n",
       "Spokane WA                   1\n",
       "India                        1\n",
       "Name: Location, Length: 1001, dtype: int64"
      ]
     },
     "execution_count": 16,
     "metadata": {},
     "output_type": "execute_result"
    }
   ],
   "source": [
    "data.loc[data['Sentiment'] == 'Positive', 'Location'].value_counts()"
   ]
  },
  {
   "cell_type": "markdown",
   "id": "51a5241c",
   "metadata": {},
   "source": [
    "# postive reviews according to various cities."
   ]
  },
  {
   "cell_type": "code",
   "execution_count": 17,
   "id": "368bd3e0",
   "metadata": {},
   "outputs": [
    {
     "data": {
      "text/plain": [
       "United States of America     22\n",
       "Florida                       3\n",
       "New York                      3\n",
       "United Kingdom                3\n",
       "Miami                         3\n",
       "                             ..\n",
       "Southwick us                  1\n",
       "Jacksonville fl               1\n",
       "wGreeashin\\n \\n Greendale     1\n",
       "Birmingham, al                1\n",
       "Trinidad and Tobago           1\n",
       "Name: Location, Length: 136, dtype: int64"
      ]
     },
     "execution_count": 17,
     "metadata": {},
     "output_type": "execute_result"
    }
   ],
   "source": [
    "data.loc[data['Sentiment'] == 'Negative', 'Location'].value_counts()"
   ]
  },
  {
   "cell_type": "markdown",
   "id": "25dec315",
   "metadata": {},
   "source": [
    "# Negative reviews according to various cities."
   ]
  },
  {
   "cell_type": "code",
   "execution_count": 18,
   "id": "8492393f",
   "metadata": {},
   "outputs": [
    {
     "data": {
      "text/plain": [
       "United States of America    18\n",
       "Canada                       2\n",
       "France                       1\n",
       "El Salvador                  1\n",
       "Puerto Rico                  1\n",
       "Kuwait                       1\n",
       "Greece                       1\n",
       "Name: Location, dtype: int64"
      ]
     },
     "execution_count": 18,
     "metadata": {},
     "output_type": "execute_result"
    }
   ],
   "source": [
    "data.loc[data['Sentiment'] == 'Neutral', 'Location'].value_counts()"
   ]
  },
  {
   "cell_type": "markdown",
   "id": "17971991",
   "metadata": {},
   "source": [
    "# Neutral reviews according to various cities."
   ]
  },
  {
   "cell_type": "markdown",
   "id": "3ec93a98",
   "metadata": {},
   "source": [
    "# Most positve and negative reviews are from the united states of america"
   ]
  }
 ],
 "metadata": {
  "kernelspec": {
   "display_name": "Python 3 (ipykernel)",
   "language": "python",
   "name": "python3"
  },
  "language_info": {
   "codemirror_mode": {
    "name": "ipython",
    "version": 3
   },
   "file_extension": ".py",
   "mimetype": "text/x-python",
   "name": "python",
   "nbconvert_exporter": "python",
   "pygments_lexer": "ipython3",
   "version": "3.8.11"
  }
 },
 "nbformat": 4,
 "nbformat_minor": 5
}
